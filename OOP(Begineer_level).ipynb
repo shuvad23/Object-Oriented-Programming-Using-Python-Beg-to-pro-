{
  "nbformat": 4,
  "nbformat_minor": 0,
  "metadata": {
    "colab": {
      "provenance": [],
      "authorship_tag": "ABX9TyNifkzHk2Cs+PZghe2egjcB",
      "include_colab_link": true
    },
    "kernelspec": {
      "name": "python3",
      "display_name": "Python 3"
    },
    "language_info": {
      "name": "python"
    }
  },
  "cells": [
    {
      "cell_type": "markdown",
      "metadata": {
        "id": "view-in-github",
        "colab_type": "text"
      },
      "source": [
        "<a href=\"https://colab.research.google.com/github/shuvad23/Object-Oriented-Programming-Using-Python-Beg-to-pro-/blob/main/OOP(Begineer_level).ipynb\" target=\"_parent\"><img src=\"https://colab.research.google.com/assets/colab-badge.svg\" alt=\"Open In Colab\"/></a>"
      ]
    },
    {
      "cell_type": "markdown",
      "source": [
        "# Begineer Level Topic"
      ],
      "metadata": {
        "id": "TRjmH7nDZncj"
      }
    },
    {
      "cell_type": "markdown",
      "source": [
        "1. What is a Class?\n",
        ">A class is like a blueprint, template, or cookie cutter. It defines the structure and behavior that objects of that type will have, but it's not the actual thing itself - just the plan for creating it.\n",
        "\n",
        ">For example, if we're creating a Car class, we might define that every car has:\n",
        "\n",
        "- Properties: color, brand, model, speed, fuel level\n",
        "- Actions: start engine, accelerate, brake, turn, honk horn\n",
        "\n",
        "2. What is an Object?\n",
        ">An object is an actual instance created from a class - like a real house built from the blueprint. When you create an object, you're bringing the class to life with specific values and the ability to perform actions.\n",
        ">Using our car example, specific objects might be:\n",
        "\n",
        "- A red Toyota Camry with 50% fuel\n",
        "- A blue BMW X5 with 80% fuel\n",
        "- A black Tesla Model 3 with 95% battery\n",
        "\n",
        "Each object has the same structure (defined by the class) but contains its own unique data.\n",
        "\n",
        "\n",
        ">The Beautiful Relationship:\n",
        "\n",
        ">The relationship between classes and objects is like the relationship between:\n",
        "- Recipe (class) and Actual Cake (object)\n",
        "- Architectural Plan (class) and Built House (object)\n",
        "- Species Definition (class) and Individual Animal (object)\n",
        "\n",
        "\n",
        "\n",
        "The Four Pillars of OOP That Make Classes Beautiful\n",
        "1. **Encapsulation** - Keeping Things Organized\n",
        "Classes bundle data and methods together, hiding internal complexity. It's like a car - you don't need to understand the engine to drive it, you just use the steering wheel and pedals (the public interface).\n",
        "2. **Inheritance** - Building Upon Success\n",
        "Classes can inherit from other classes, like how a \"SportsCar\" class might inherit from a \"Car\" class but add turbo boost functionality. This promotes code reuse and creates natural hierarchies.\n",
        "3. **Polymorphism** - Same Interface, Different Behavior\n",
        "Different objects can respond to the same method call in their own way. A \"Dog\" and \"Cat\" class might both have a \"make_sound()\" method, but one barks and one meows.\n",
        "4. **Abstraction** - Focusing on What Matters\n",
        "Classes let you model real-world concepts at the right level of detail. A \"BankAccount\" class focuses on balances and transactions, not the underlying database storage.\n",
        "\n",
        ">Real-World Analogies\n",
        "- Class as a Factory Machine: The class is like a factory machine that produces cars. The machine defines what every car will have (4 wheels, engine, doors), but each car that rolls off the production line is a unique object with its own color, serial number, and specifications.\n",
        "\n",
        "- Class as a Species: Think of \"Dog\" as a class - it defines that all dogs have four legs, bark, and wag tails. But \"Buddy\" (a Golden Retriever) and \"Rex\" (a German Shepherd) are objects - individual dogs with their own personalities, ages, and favorite toys.\n",
        "\n",
        ">Why This Design is Beautiful\n",
        "\n",
        ">  The class-object relationship creates code that mirrors how we naturally think about the world. We categorize things (classes) and then work with specific instances (objects). This makes programs:\n",
        "\n",
        "- Intuitive: Code reads like natural language\n",
        "- Maintainable: Changes to the class automatically apply to all objects\n",
        "- Scalable: Easy to create many similar objects\n",
        "- Organized: Related data and functions stay together\n",
        "- Reusable: Classes can be used across different projects\n"
      ],
      "metadata": {
        "id": "-q5X1KahbBeb"
      }
    },
    {
      "cell_type": "code",
      "source": [
        "# The self Keyword\n",
        "# 1. self refers to the current instance of the class\n",
        "# 2. Used to access variables and methods belonging to that object\n",
        "# 3. First parameter of instance methods (but not passed explicitly when calling)\n",
        "\n",
        "class Dog:\n",
        "    def __init__(self, name, age, dog_id):\n",
        "        self.name = name\n",
        "        self.age = age\n",
        "        self._dog_id = dog_id # Convention: _prefix means \"protected\"\n",
        "\n",
        "    def bark(self):\n",
        "        print(f\"{self.name} says Woof!\")\n",
        "    @property\n",
        "    def dog_id(self): # The getter method (name should match property)\n",
        "        return self._dog_id\n",
        "    @dog_id.setter\n",
        "    def dog_id(self, dog_id): # The setter method (same name as property)\n",
        "        self._dog_id = dog_id\n",
        "    @dog_id.deleter\n",
        "    def dog_id(self): # The deleter method (same name as property)\n",
        "        self._dog_id = None\n",
        "\n",
        "    def __str__(self):\n",
        "        return f\"Dog(name={self.name}, age={self.age}, dog_id={self._dog_id})\"\n",
        "    def __repr__(self):\n",
        "        return f\"Dog(name={self.name}, age={self.age}, dog_id={self._dog_id})\"\n",
        "    def __eq__(self, other):\n",
        "        return self.name == other.name and self.age == other.age and self._dog_id == other._dog_id\n",
        "    def __lt__(self, other):\n",
        "        return self.age < other.age\n",
        "    def __le__(self, other):\n",
        "        return self.age <= other.age\n",
        "    def __gt__(self, other):\n",
        "        return self.age > other.age\n",
        "    def __ge__(self, other):\n",
        "        return self.age >= other.age\n",
        "    def __ne__(self, other):\n",
        "        return not self.__eq__(other)\n",
        "    def __add__(self, other):\n",
        "        return self.age + other.age\n",
        "    def __sub__(self, other):\n",
        "        return self.age - other.age\n",
        "    def __null__(self):\n",
        "        return self.age == 0\n",
        "    def __len__(self):\n",
        "        return len(self.name)\n",
        "    def __iter__(self):\n",
        "        return iter(self.name)\n",
        "    def __next__(self):\n",
        "        return next(self.name)\n",
        "    def __getitem__(self, key):\n",
        "        return self.name[key]\n",
        "    def __setitem__(self, key, value):\n",
        "        self.name[key] = value\n",
        "    def __delitem__(self, key):\n",
        "        del self.name[key]\n",
        "    def __contains__(self, item):\n",
        "        return item in self.name\n",
        "    def __call__(self):\n",
        "        return f\"{self.name} is barking!\"\n",
        "    def __del__(self):\n",
        "        print(f\"{self.name} has been deleted!\")\n",
        "    def __copy__(self):\n",
        "        return Dog(self.name, self.age, self._dog_id)\n",
        "    def __deepcopy__(self, memo):\n",
        "        return Dog(self.name, self.age, self._dog_id)\n",
        "dog = Dog(\"Buddy\", 3, \"12345\")\n",
        "# print(dog)\n",
        "# print(dog.bark())\n",
        "# print(dog.dog_id)\n",
        "# dog.dog_id = \"67890\"\n",
        "# print(dog.dog_id)\n",
        "# del dog.dog_id\n",
        "# print(dog.dog_id)\n",
        "# dog.dog_id = \"12345\"\n",
        "# print(dog.dog_id)\n",
        "\n",
        "print(dog)\n",
        "print(dog.__str__())\n",
        "print(dog.__repr__())\n",
        "print(dog.__eq__(Dog(\"Buddy\", 3, \"12345\")))\n",
        "print(dog.__gt__(Dog(\"Buddy\", 4, \"12345\")))"
      ],
      "metadata": {
        "colab": {
          "base_uri": "https://localhost:8080/"
        },
        "id": "u0UVg8FMpQnT",
        "outputId": "18d8dfb4-9821-40e8-b337-efac1306f3ae"
      },
      "execution_count": null,
      "outputs": [
        {
          "output_type": "stream",
          "name": "stdout",
          "text": [
            "Dog(name=Buddy, age=3, dog_id=12345)\n",
            "Dog(name=Buddy, age=3, dog_id=12345)\n",
            "Dog(name=Buddy, age=3, dog_id=12345)\n",
            "Buddy has been deleted!\n",
            "True\n",
            "Buddy has been deleted!\n",
            "False\n"
          ]
        }
      ]
    },
    {
      "cell_type": "markdown",
      "source": [
        "1. Instance Attributes\n",
        "\n",
        "- Specific to each object (instance) of the class\n",
        "- Defined inside methods (typically __init__) using self\n",
        "- Each object maintains its own copy"
      ],
      "metadata": {
        "id": "8NU16yb4xq3_"
      }
    },
    {
      "cell_type": "code",
      "source": [
        "# Attributes & Methods in Python Classes\n",
        "class Car:\n",
        "    def __init__(self,name):\n",
        "        self.name = name # instance Attribute\n",
        "\n",
        "car1 = Car(\"Toyota\")\n",
        "car2 = Car(\"Honda\")\n",
        "car3 = Car(\"Ford\")\n",
        "car4 = Car(\"Tesla\")\n",
        "print(car1.name)\n",
        "print(car2.name)"
      ],
      "metadata": {
        "colab": {
          "base_uri": "https://localhost:8080/"
        },
        "id": "ZplWqEK2xj-_",
        "outputId": "4b8661ed-e631-4d27-efea-04a7d37b7cb5"
      },
      "execution_count": null,
      "outputs": [
        {
          "output_type": "stream",
          "name": "stdout",
          "text": [
            "Toyota\n",
            "Honda\n"
          ]
        }
      ]
    },
    {
      "cell_type": "markdown",
      "source": [
        "2. Class Attributes\n",
        "- Shared among all instances of the class\n",
        "- Defined directly in the class (outside methods)\n",
        "- Accessed through class name or instance"
      ],
      "metadata": {
        "id": "et2F2yFoymlb"
      }
    },
    {
      "cell_type": "code",
      "source": [
        "# 2. Class Attributes\n",
        "class Car:\n",
        "    car_count = 0 # Class Attribute\n",
        "    car_manufacturer = \"Toyota\" # Class Attribute\n",
        "    def __init__(self,name):\n",
        "        self.name = name # instance Attribute\n",
        "\n",
        "car1 = Car(\"Toyota\")\n",
        "car2 = Car(\"Honda\")\n",
        "car3 = Car(\"Ford\")\n",
        "car4 = Car(\"Tesla\")\n",
        "print(Car.car_count)\n",
        "print(car1.name)\n",
        "print(car2.name)"
      ],
      "metadata": {
        "colab": {
          "base_uri": "https://localhost:8080/"
        },
        "id": "fwLEmBK3ymJf",
        "outputId": "ac563c9a-c09b-4a1b-ec79-051d0b952ccf"
      },
      "execution_count": null,
      "outputs": [
        {
          "output_type": "stream",
          "name": "stdout",
          "text": [
            "0\n",
            "Toyota\n",
            "Honda\n"
          ]
        }
      ]
    },
    {
      "cell_type": "markdown",
      "source": [
        "3. Instance Methods\n",
        "- Functions defined inside the class that operate on instances\n",
        "- First parameter is always self (reference to the instance)\n",
        "- Can access and modify instance attributes"
      ],
      "metadata": {
        "id": "WDv2eoRmzVOC"
      }
    },
    {
      "cell_type": "code",
      "source": [
        "class Dog:\n",
        "    def __init__(self, name):\n",
        "        self.name = name\n",
        "\n",
        "    def bark(self):  # Instance method\n",
        "        print(f\"{self.name} says woof!\")\n",
        "\n",
        "    def rename(self, new_name):  # Another instance method\n",
        "        self.name = new_name\n",
        "\n",
        "dog = Dog(\"Fido\")\n",
        "dog.bark()      # \"Fido says woof!\"\n",
        "dog.rename(\"Rex\")\n",
        "dog.bark()      # \"Rex says woof!\""
      ],
      "metadata": {
        "colab": {
          "base_uri": "https://localhost:8080/"
        },
        "id": "JIosv14ZzU4F",
        "outputId": "d0623305-1c03-4271-dbed-a4ad5354e4d6"
      },
      "execution_count": null,
      "outputs": [
        {
          "output_type": "stream",
          "name": "stdout",
          "text": [
            "Buddy has been deleted!\n",
            "Fido says woof!\n",
            "Rex says woof!\n"
          ]
        }
      ]
    },
    {
      "cell_type": "markdown",
      "source": [
        "4. The __init__ Method (Constructor)\n",
        "- Special method called when an object is created\n",
        "\n",
        "- Used to initialize instance attributes\n",
        "\n",
        "- First parameter is self, followed by other parameters"
      ],
      "metadata": {
        "id": "1toO1HbyzpKU"
      }
    },
    {
      "cell_type": "code",
      "source": [
        "# 4.The init Method (Constructor)\n",
        "class Dog:\n",
        "    def __init__(self, name, age=1):  # Constructor with default age\n",
        "        self.name = name\n",
        "        self.age = age\n",
        "        self.tricks = []  # Initialize empty list\n",
        "\n",
        "    def add_trick(self, trick):\n",
        "        self.tricks.append(trick)\n",
        "\n",
        "# Creating instances\n",
        "puppy = Dog(\"Spot\")  # Uses default age\n",
        "adult = Dog(\"Rover\", 5)\n",
        "\n",
        "puppy.add_trick(\"sit\")\n",
        "print(puppy.tricks)  # ['sit']"
      ],
      "metadata": {
        "colab": {
          "base_uri": "https://localhost:8080/"
        },
        "id": "E5nAvlftzo2T",
        "outputId": "e629064d-9f55-4068-85cc-5a8aa33637a0"
      },
      "execution_count": null,
      "outputs": [
        {
          "output_type": "stream",
          "name": "stdout",
          "text": [
            "['sit']\n"
          ]
        }
      ]
    },
    {
      "cell_type": "markdown",
      "source": [
        "### Basic Inheritance in Python\n",
        "- Single Inheritance\n",
        "\n",
        ">Inheritance allows a class (child) to inherit attributes and methods from another class (parent)."
      ],
      "metadata": {
        "id": "j3s6nerO6VFU"
      }
    },
    {
      "cell_type": "code",
      "source": [
        "# single inheritance\n",
        "class Animal:\n",
        "    def __init__(self, name):\n",
        "        self.name = name\n",
        "    def speak(self):\n",
        "        print(f\"{self.name} makes a sound\")\n",
        "class Dog(Animal): # Child class inherits from Animal\n",
        "    def __init__(self, name, breed):\n",
        "        super().__init__(name)\n",
        "        self.breed = breed\n",
        "    def speak(self): # Method overriding\n",
        "        print(f\"{self.name} the {self.breed} says woof!\")\n",
        "        super().speak()\n",
        "class Cat(Animal): # another child class\n",
        "    def __init__(self,name,breed):\n",
        "        super().__init__(name)\n",
        "        self.breed = breed\n",
        "    def speak(self): # Method overriding\n",
        "        print(f\"{self.name} the {self.breed} says meow!\")\n",
        "        return super().speak()\n",
        "dog = Dog(\"Buddy\", \"Golden Retriever\")\n",
        "cat = Cat(\"Whiskers\", \"Siamese\")\n",
        "dog.speak()\n",
        "cat.speak()"
      ],
      "metadata": {
        "colab": {
          "base_uri": "https://localhost:8080/"
        },
        "id": "fTOxN6eH6UoZ",
        "outputId": "42c548a3-2869-4e60-c895-10e854f105db"
      },
      "execution_count": null,
      "outputs": [
        {
          "output_type": "stream",
          "name": "stdout",
          "text": [
            "Buddy the Golden Retriever says woof!\n",
            "Buddy makes a sound\n",
            "Whiskers the Siamese says meow!\n",
            "Whiskers makes a sound\n"
          ]
        }
      ]
    },
    {
      "cell_type": "markdown",
      "source": [
        "- Method Overriding and super()\n",
        ">When you override a method but still want to call the parent's version:"
      ],
      "metadata": {
        "id": "WFeEPN_K81Ze"
      }
    },
    {
      "cell_type": "code",
      "source": [
        "class Animal:\n",
        "    def __init__(self, name, species):\n",
        "        self.name = name\n",
        "        self.species = species\n",
        "\n",
        "    def speak(self):\n",
        "        print(f\"{self.name} the {self.species} makes a sound\")\n",
        "\n",
        "class Dog(Animal):\n",
        "    def __init__(self, name, breed):\n",
        "        super().__init__(name, species=\"Dog\")  # Call parent's __init__\n",
        "        self.breed = breed\n",
        "dog = Dog(\"Buddy\", \"Golden Retriever\")\n",
        "dog.speak()"
      ],
      "metadata": {
        "colab": {
          "base_uri": "https://localhost:8080/"
        },
        "id": "siO_m81O8y9Y",
        "outputId": "1aa867af-d38a-4109-ffa2-69044dd56edc"
      },
      "execution_count": null,
      "outputs": [
        {
          "output_type": "stream",
          "name": "stdout",
          "text": [
            "Buddy the Dog makes a sound\n"
          ]
        }
      ]
    },
    {
      "cell_type": "markdown",
      "source": [
        "- isinstance() and issubclass()\n",
        ">These built-in functions check object/class relationships:"
      ],
      "metadata": {
        "id": "PV03eSFc93ml"
      }
    },
    {
      "cell_type": "code",
      "source": [
        "class Animal:\n",
        "    def __init__(self, name, species):\n",
        "        self.name = name\n",
        "        self.species = species\n",
        "\n",
        "    def speak(self):\n",
        "        print(f\"{self.name} the {self.species} makes a sound\")\n",
        "\n",
        "class Dog(Animal):\n",
        "    def __init__(self, name, breed):\n",
        "        super().__init__(name, species=\"Dog\")\n",
        "        self.breed = breed\n",
        "    def speak(self):\n",
        "        print(f\"{self.name} the {self.breed} says woof!\")\n",
        "class Cat(Animal):\n",
        "    def __init__(self, name, breed):\n",
        "        super().__init__(name, species=\"Cat\")\n",
        "        self.breed = breed\n",
        "    def speak(self):\n",
        "        print(f\"{self.name} the {self.breed} says meow!\")\n",
        "\n",
        "my_dog = Dog(\"Fido\", \"Labrador\")\n",
        "\n",
        "# Check if an object is an instance of a class\n",
        "print(isinstance(my_dog, Dog))    # True\n",
        "print(isinstance(my_dog, Animal)) # True (because of inheritance)\n",
        "print(isinstance(my_dog, Cat))    # False\n",
        "\n",
        "# Check if a class is subclass of another\n",
        "print(issubclass(Dog, Animal))    # True\n",
        "print(issubclass(Dog, object))    # True (all classes inherit from object)\n",
        "print(issubclass(Dog, Cat))       # False"
      ],
      "metadata": {
        "colab": {
          "base_uri": "https://localhost:8080/"
        },
        "id": "s_r-Ya4M93Ub",
        "outputId": "b4502f18-d6eb-4b32-9f8a-510349973b07"
      },
      "execution_count": null,
      "outputs": [
        {
          "output_type": "stream",
          "name": "stdout",
          "text": [
            "True\n",
            "True\n",
            "False\n",
            "True\n",
            "True\n",
            "False\n"
          ]
        }
      ]
    },
    {
      "cell_type": "code",
      "source": [
        "# Note : - Key Points:\n",
        "#1.  Inheritance Syntax: class Child(Parent):\n",
        "\n",
        "#2.  Method Overriding: Child classes can redefine parent methods\n",
        "\n",
        "#3.  super(): Calls the parent class's version of a method\n",
        "\n",
        "#4.  isinstance(): Checks if an object is an instance of a class (or its subclasses)\n",
        "\n",
        "#5.  issubclass(): Checks if one class inherits from another\n",
        "\n",
        "# all in one ----\n",
        "class Vehicle:\n",
        "    def __init__(self, make, model):\n",
        "        self.make = make\n",
        "        self.model = model\n",
        "\n",
        "    def info(self):\n",
        "        return f\"{self.make} {self.model}\"\n",
        "\n",
        "class Car(Vehicle):\n",
        "    def __init__(self, make, model, doors):\n",
        "        super().__init__(make, model)\n",
        "        self.doors = doors\n",
        "\n",
        "    def info(self):  # Override parent method\n",
        "        return f\"{super().info()} with {self.doors} doors\"\n",
        "\n",
        "my_car = Car(\"Toyota\", \"Camry\", 4)\n",
        "print(my_car.info())  # \"Toyota Camry with 4 doors\"\n",
        "print(isinstance(my_car, Vehicle))  # True\n",
        "print(issubclass(Car, Vehicle))    # True"
      ],
      "metadata": {
        "colab": {
          "base_uri": "https://localhost:8080/"
        },
        "id": "oFjVDk7R-95z",
        "outputId": "a2df99ca-6571-4394-b1bb-a9af2298d37a"
      },
      "execution_count": null,
      "outputs": [
        {
          "output_type": "stream",
          "name": "stdout",
          "text": [
            "Toyota Camry with 4 doors\n",
            "True\n",
            "True\n"
          ]
        }
      ]
    },
    {
      "cell_type": "markdown",
      "source": [
        "### Encapsulation in Python: Public, Private, and Protected Access\n",
        ">Encapsulation is the concept of restricting direct access to an object's data and exposing only what's necessary. Python uses naming conventions (not strict enforcement) to indicate access levels\n"
      ],
      "metadata": {
        "id": "GcwlY4HKAj2r"
      }
    },
    {
      "cell_type": "markdown",
      "source": [
        "- 1. Public, Protected, and Private Variables"
      ],
      "metadata": {
        "id": "hrvzerX7BK7j"
      }
    },
    {
      "cell_type": "code",
      "source": [
        "# 1. Public, Protected, and Private Variables\n",
        "class BankAccount:\n",
        "    def __init__(self, account_holder, balance):\n",
        "        self.account_holder = account_holder  # Public\n",
        "        self._account_number = \"ACC12345\"     # Protected (convention)\n",
        "        self.__balance = balance              # Private (name-mangled)\n",
        "\n",
        "account = BankAccount(\"Alice\", 1000)\n",
        "\n",
        "# Accessing attributes:\n",
        "print(account.account_holder)   # ✅ Public (allowed)\n",
        "print(account._account_number)  # ⚠️ Protected (discouraged, but works)\n",
        "# print(account.__balance)        # ❌ Error (AttributeError, due to name mangling)\n",
        "print(account._BankAccount__balance)  # ✅ Works (but should avoid)\n",
        "\n",
        "# Key Points:\n",
        "# Public (var): No restrictions.\n",
        "# Protected (_var): A convention (not enforced), meaning \"don't touch unless subclassing.\"\n",
        "# Private (__var): Python name-mangles it to _ClassName__var to prevent accidental access."
      ],
      "metadata": {
        "colab": {
          "base_uri": "https://localhost:8080/"
        },
        "id": "NCQecNt0AiWm",
        "outputId": "88893ba2-5fd9-4b91-f443-b475dd37ff2e"
      },
      "execution_count": null,
      "outputs": [
        {
          "output_type": "stream",
          "name": "stdout",
          "text": [
            "Alice\n",
            "ACC12345\n",
            "1000\n"
          ]
        }
      ]
    },
    {
      "cell_type": "markdown",
      "source": [
        "- 2. Getters and Setters (Controlled Access)\n",
        "\n",
        ">Instead of direct access, we use methods to control how attributes are modified."
      ],
      "metadata": {
        "id": "Qet68uioCEry"
      }
    },
    {
      "cell_type": "code",
      "source": [
        "# Example Without Getters/Setters (Bad Practice)\n",
        "class Person:\n",
        "    def __init__(self, age):\n",
        "        self.age = age  # Direct access (no control)\n",
        "\n",
        "person = Person(25)\n",
        "person.age = -10  # ❌ Problem: Negative age is invalid"
      ],
      "metadata": {
        "colab": {
          "base_uri": "https://localhost:8080/"
        },
        "id": "N88taDhjCERN",
        "outputId": "f3bff226-74bb-4f5d-cb6b-7b5179e76b07"
      },
      "execution_count": null,
      "outputs": [
        {
          "output_type": "stream",
          "name": "stdout",
          "text": [
            "-10\n"
          ]
        }
      ]
    },
    {
      "cell_type": "code",
      "source": [
        "# Example With Getters/Setters (Better)\n",
        "class Person:\n",
        "    def __init__(self, age):\n",
        "        self._age = age\n",
        "\n",
        "    @property\n",
        "    def age(self):\n",
        "        return self._age\n",
        "    @age.setter\n",
        "    def age(self,value):\n",
        "        if value < 0:\n",
        "            raise ValueError(\"Age cannot be negative\")\n",
        "        self._age = value\n",
        "\n",
        "\n",
        "# another way to solve this problem without using decorator\n",
        "person = Person(25)\n",
        "print(person.age)\n",
        "person.age = 30\n",
        "print(person.age)\n",
        "# person.age = -10 # error\n",
        "\n",
        "\n",
        "class Person:\n",
        "    def __init__(self, age):\n",
        "        self._age = age  # Protected (internal use)\n",
        "\n",
        "    # Getter (access)\n",
        "    def get_age(self):\n",
        "        return self._age\n",
        "\n",
        "    # Setter (modify with validation)\n",
        "    def set_age(self, new_age):\n",
        "        if new_age >= 0:\n",
        "            self._age = new_age\n",
        "        else:\n",
        "            raise ValueError(\"Age cannot be negative!\")\n",
        "\n",
        "person = Person(25)\n",
        "print(person.get_age())  # ✅ 25\n",
        "person.set_age(30)       # ✅ Works\n",
        "# person.set_age(-5)       # ❌ Raises ValueError"
      ],
      "metadata": {
        "colab": {
          "base_uri": "https://localhost:8080/"
        },
        "id": "qn_IcXXYC32p",
        "outputId": "b8abff32-d818-4fae-a0e3-b407880dc933"
      },
      "execution_count": null,
      "outputs": [
        {
          "output_type": "stream",
          "name": "stdout",
          "text": [
            "25\n",
            "30\n",
            "25\n"
          ]
        }
      ]
    },
    {
      "cell_type": "markdown",
      "source": [
        "- 3. Using @property for Pythonic Getters/Setters\n",
        ">Instead of get_age() and set_age(), Python prefers @property for cleaner syntax."
      ],
      "metadata": {
        "id": "vM_EGnWqEKk1"
      }
    },
    {
      "cell_type": "code",
      "source": [
        "class Person:\n",
        "    def __init__(self, age):\n",
        "        self._age = age  # Protected (internal storage)\n",
        "\n",
        "    @property  # Getter (called when accessing `person.age`)\n",
        "    def age(self):\n",
        "        return self._age\n",
        "\n",
        "    @age.setter  # Setter (called when assigning `person.age = ...`)\n",
        "    def age(self, new_age):\n",
        "        if new_age >= 0:\n",
        "            self._age = new_age\n",
        "        else:\n",
        "            raise ValueError(\"Age cannot be negative!\")\n",
        "\n",
        "person = Person(25)\n",
        "print(person.age)  # ✅ 25 (calls @property getter)\n",
        "person.age = 30    # ✅ Works (calls @age.setter)\n",
        "# person.age = -5    # ❌ Raises ValueError\n",
        "\n",
        "\n",
        "# Advantages of @property\n",
        "# ✔ Cleaner syntax (no get_/set_ methods)\n",
        "# ✔ Maintains encapsulation (still controls access)\n",
        "# ✔ Allows future changes (e.g., add validation later)\n",
        "\n",
        "\n",
        "# Best Practices\n",
        "# ✅ Use @property for getters/setters (cleaner than get_/set_ methods)\n",
        "# ✅ Use _protected for attributes that subclasses might need (but discourage direct access)\n",
        "# ✅ Use __private for truly internal attributes (prevents accidental access)\n",
        "# ❌ Avoid direct attribute access when validation/logic is needed"
      ],
      "metadata": {
        "colab": {
          "base_uri": "https://localhost:8080/"
        },
        "id": "uZjiwAbrEKSR",
        "outputId": "03641e77-a66c-4fdf-a095-9a67cb024585"
      },
      "execution_count": null,
      "outputs": [
        {
          "output_type": "stream",
          "name": "stdout",
          "text": [
            "25\n"
          ]
        }
      ]
    },
    {
      "cell_type": "markdown",
      "source": [
        "### Python Magic Methods (Dunder Methods) - Detailed Explanation\n",
        ">Magic methods (also called dunder methods because they're surrounded by double underscores) are special methods in Python that allow you to define how objects of your classes interact with built-in Python operations. These methods are automatically invoked by Python in response to specific operations or syntax.\n",
        "\n",
        "1. Introduction to Magic Methods\n",
        "- Start and end with double underscores (__method__)\n",
        "\n",
        "- Automatically called by Python in certain situations\n",
        "\n",
        "- Allow you to emulate built-in types behavior\n",
        "\n",
        "- Enable operator overloading and special behaviors"
      ],
      "metadata": {
        "id": "MrxFYtOnFham"
      }
    },
    {
      "cell_type": "code",
      "source": [
        "# a) __init__ - The Constructor\n",
        "class MyClass:\n",
        "    def __init__(self, value):\n",
        "        self.value = value\n",
        "\n",
        "# Called when an object is instantiated\n",
        "# Used for initializing object attributes"
      ],
      "metadata": {
        "id": "kfqoCeLyFhGO"
      },
      "execution_count": null,
      "outputs": []
    },
    {
      "cell_type": "code",
      "source": [
        "# b) __str__ vs __repr__ - String Representation\n",
        "# Method\t     Called When\t                  Purpose\n",
        "# __str__\t     print(obj), str(obj)\t          User-friendly, readable output (for end-users)\n",
        "# __repr__\t   repr(obj), console output\t    Unambiguous, developer-friendly output (for debugging & logging)\n",
        "\n",
        "class Point:\n",
        "    def __init__(self, x, y):\n",
        "        self.x = x\n",
        "        self.y = y\n",
        "\n",
        "    def __str__(self):\n",
        "        return f\"Point at ({self.x}, {self.y})\"\n",
        "\n",
        "    def __repr__(self):\n",
        "        return f\"Point(x={self.x}, y={self.y})\"\n",
        "\n",
        "p = Point(3, 4)\n",
        "print(p)        # Uses __str__ → \"Point at (3, 4)\"\n",
        "print(repr(p))  # Uses __repr__ → \"Point(x=3, y=4)\""
      ],
      "metadata": {
        "colab": {
          "base_uri": "https://localhost:8080/"
        },
        "id": "UXMzpWXdHpsb",
        "outputId": "90e73d3b-4fdc-4531-b369-619a9af19cf5"
      },
      "execution_count": null,
      "outputs": [
        {
          "output_type": "stream",
          "name": "stdout",
          "text": [
            "Point at (3, 4)\n",
            "Point(x=3, y=4)\n"
          ]
        }
      ]
    },
    {
      "cell_type": "code",
      "source": [
        "# c) __len__ - Length of Object\n",
        "class MyCollection:\n",
        "    def __init__(self, items):\n",
        "        self.items = items\n",
        "\n",
        "    def __len__(self):\n",
        "        return len(self.items)\n",
        "\n",
        "col = MyCollection([1, 2, 3])\n",
        "print(len(col))  # Calls __len__ → 3\n",
        "\n",
        "# Defines behavior for len() function\n",
        "# Should return an integer ≥ 0"
      ],
      "metadata": {
        "id": "yuDvxcfuImyl"
      },
      "execution_count": null,
      "outputs": []
    },
    {
      "cell_type": "code",
      "source": [
        "# d) __getitem__ and __setitem__ - Indexing Support\n",
        "class MyList:\n",
        "    def __init__(self, items):\n",
        "        self.items = items\n",
        "\n",
        "    def __getitem__(self, index):\n",
        "        return self.items[index]\n",
        "\n",
        "    def __setitem__(self, index, value):\n",
        "        self.items[index] = value\n",
        "\n",
        "lst = MyList([10, 20, 30])\n",
        "print(lst[1])   # 20 (uses __getitem__)\n",
        "lst[1] = 99     # Uses __setitem__"
      ],
      "metadata": {
        "id": "sGQl5dXLI9x1"
      },
      "execution_count": null,
      "outputs": []
    },
    {
      "cell_type": "code",
      "source": [
        "# e) __iter__ and __next__ - Iteration Support\n",
        "class CountUpTo:\n",
        "    def __init__(self, max):\n",
        "        self.max = max\n",
        "        self.current = 0\n",
        "\n",
        "    def __iter__(self):\n",
        "        return self\n",
        "\n",
        "    def __next__(self):\n",
        "        if self.current >= self.max:\n",
        "            raise StopIteration\n",
        "        self.current += 1\n",
        "        return self.current\n",
        "\n",
        "for num in CountUpTo(5):\n",
        "    print(num)  # Prints 0, 1, 2, 3, 4"
      ],
      "metadata": {
        "colab": {
          "base_uri": "https://localhost:8080/"
        },
        "id": "8DsBNz_OJXfF",
        "outputId": "f252da18-74e4-48be-b9d4-92bbac0153f0"
      },
      "execution_count": null,
      "outputs": [
        {
          "output_type": "stream",
          "name": "stdout",
          "text": [
            "1\n",
            "2\n",
            "3\n",
            "4\n",
            "5\n"
          ]
        }
      ]
    },
    {
      "cell_type": "markdown",
      "source": [
        "- 3. Comparison Magic Methods\n",
        ">Method\tOperator\tPurpose\n",
        "    - __eq__\t==\tEquality check\n",
        "    - __lt__\t<\tLess than\n",
        "    - __gt__\t>\tGreater than\n",
        "    - __le__\t<=\tLess than or equal\n",
        "    - __ge__\t>=\tGreater than or equal\n"
      ],
      "metadata": {
        "id": "z7AFxWWsKAZ6"
      }
    },
    {
      "cell_type": "code",
      "source": [
        "# 3. Comparison Magic Methods\n",
        "class Book:\n",
        "    def __init__(self, title, pages):\n",
        "        self.title = title\n",
        "        self.pages = pages\n",
        "\n",
        "    def __lt__(self, other):\n",
        "        return self.pages < other.pages\n",
        "\n",
        "book1 = Book(\"Python\", 300)\n",
        "book2 = Book(\"Java\", 400)\n",
        "print(book1 < book2)  # True (300 < 400)"
      ],
      "metadata": {
        "colab": {
          "base_uri": "https://localhost:8080/"
        },
        "id": "gGlDMAfqJ9yN",
        "outputId": "00a0e4c8-ccd1-4397-82f1-e62a170f94e1"
      },
      "execution_count": null,
      "outputs": [
        {
          "output_type": "stream",
          "name": "stdout",
          "text": [
            "True\n"
          ]
        }
      ]
    },
    {
      "cell_type": "markdown",
      "source": [
        "- 4. Mathematical Operations\n",
        ">Method\tOperator\tPurpose\n",
        "    - __add__\t+\tAddition\n",
        "    - __sub__\t-\tSubtraction\n",
        "    - __mul__\t*\tMultiplication\n",
        "    - __truediv__\t/\tDivision"
      ],
      "metadata": {
        "id": "Hy1twhG4LBEj"
      }
    },
    {
      "cell_type": "code",
      "source": [
        "class Vector:\n",
        "    def __init__(self, x, y):\n",
        "        self.x = x\n",
        "        self.y = y\n",
        "\n",
        "    def __add__(self, other):\n",
        "        return Vector(self.x + other.x, self.y + other.y)\n",
        "\n",
        "v1 = Vector(2, 3)\n",
        "v2 = Vector(1, 4)\n",
        "v3 = v1 + v2  # Vector(3, 7)"
      ],
      "metadata": {
        "id": "SC3SmTksK4YF"
      },
      "execution_count": null,
      "outputs": []
    },
    {
      "cell_type": "markdown",
      "source": [
        "- 5. When to Use Magic Methods\n",
        ">When you want your objects to work with Python's built-in functions/operators\n",
        "    - To make your classes more intuitive and Pythonic\n",
        "\n",
        "    - To implement protocols (like sequence, iterator, context manager)\n",
        "\n",
        ">Best Practices:\n",
        "\n",
        "  - __repr__ should ideally return a string that could recreate the object\n",
        "  - __str__ should be human-readable\n",
        "\n",
        "**Magic methods should maintain expected behavior (e.g., __len__ returns non-negative int)\n",
        "\n",
        "Not all magic methods need to be implemented - only those that make sense for your class"
      ],
      "metadata": {
        "id": "wy_cbXxPLQLD"
      }
    },
    {
      "cell_type": "code",
      "source": [
        "# Class Definition - The Blueprint\n",
        "class Student:\n",
        "    # Class variable - shared by all students\n",
        "    school_name = \"Greenwood High School\"\n",
        "    total_students = 0\n",
        "\n",
        "    # Constructor method - runs when creating a new object\n",
        "    def __init__(self, name, age, grade, student_id):\n",
        "        # Instance variables - unique to each object\n",
        "        self.name = name\n",
        "        self.age = age\n",
        "        self.grade = grade\n",
        "        self.student_id = student_id\n",
        "        self.courses = []\n",
        "        self.gpa = 0.0\n",
        "\n",
        "        # Increment total students when new student is created\n",
        "        Student.total_students += 1\n",
        "        print(f\"✨ New student {name} has been enrolled!\")\n",
        "\n",
        "    # Instance methods - actions that objects can perform\n",
        "    def introduce(self):\n",
        "        return f\"Hi! I'm {self.name}, {self.age} years old, in grade {self.grade}\"\n",
        "\n",
        "    def enroll_course(self, course_name):\n",
        "        if course_name not in self.courses:\n",
        "            self.courses.append(course_name)\n",
        "            print(f\"📚 {self.name} enrolled in {course_name}\")\n",
        "        else:\n",
        "            print(f\"⚠️ {self.name} is already enrolled in {course_name}\")\n",
        "\n",
        "    def calculate_gpa(self, grades_dict):\n",
        "        if not grades_dict:\n",
        "            return 0.0\n",
        "\n",
        "        grade_points = {'A': 4.0, 'B': 3.0, 'C': 2.0, 'D': 1.0, 'F': 0.0}\n",
        "        total_points = sum(grade_points.get(grade, 0) for grade in grades_dict.values())\n",
        "        self.gpa = total_points / len(grades_dict)\n",
        "        return self.gpa\n",
        "\n",
        "    def get_student_info(self):\n",
        "        courses_str = \", \".join(self.courses) if self.courses else \"No courses enrolled\"\n",
        "        return f\"\"\"\n",
        "        📋 Student Profile:\n",
        "        Name: {self.name}\n",
        "        Age: {self.age}\n",
        "        Grade: {self.grade}\n",
        "        Student ID: {self.student_id}\n",
        "        School: {self.school_name}\n",
        "        GPA: {self.gpa:.2f}\n",
        "        Courses: {courses_str}\n",
        "        \"\"\"\n",
        "\n",
        "    # Class method - operates on the class itself\n",
        "    @classmethod\n",
        "    def get_school_info(cls):\n",
        "        return f\"🏫 {cls.school_name} has {cls.total_students} students enrolled\"\n",
        "\n",
        "    # Static method - utility function related to the class\n",
        "    @staticmethod\n",
        "    def is_passing_grade(grade):\n",
        "        passing_grades = ['A', 'B', 'C', 'D']\n",
        "        return grade in passing_grades\n",
        "\n",
        "# Creating Objects (Instances) from the Class\n",
        "print(\"=\" * 50)\n",
        "print(\"🎓 CREATING STUDENT OBJECTS\")\n",
        "print(\"=\" * 50)\n",
        "\n",
        "# Each object is created using the class blueprint\n",
        "student1 = Student(\"Alice Johnson\", 16, 10, \"S001\")\n",
        "student2 = Student(\"Bob Smith\", 17, 11, \"S002\")\n",
        "student3 = Student(\"Carol Davis\", 15, 9, \"S003\")\n",
        "\n",
        "print(\"\\n\" + \"=\" * 50)\n",
        "print(\"👋 STUDENT INTRODUCTIONS\")\n",
        "print(\"=\" * 50)\n",
        "\n",
        "# Each object can perform actions defined in the class\n",
        "print(student1.introduce())\n",
        "print(student2.introduce())\n",
        "print(student3.introduce())\n",
        "\n",
        "print(\"\\n\" + \"=\" * 50)\n",
        "print(\"📚 ENROLLING IN COURSES\")\n",
        "print(\"=\" * 50)\n",
        "\n",
        "# Objects can have different data while sharing the same methods\n",
        "student1.enroll_course(\"Mathematics\")\n",
        "student1.enroll_course(\"Physics\")\n",
        "student1.enroll_course(\"Chemistry\")\n",
        "\n",
        "student2.enroll_course(\"English Literature\")\n",
        "student2.enroll_course(\"History\")\n",
        "student2.enroll_course(\"Mathematics\")\n",
        "\n",
        "student3.enroll_course(\"Biology\")\n",
        "student3.enroll_course(\"Chemistry\")\n",
        "\n",
        "print(\"\\n\" + \"=\" * 50)\n",
        "print(\"📊 CALCULATING GPAS\")\n",
        "print(\"=\" * 50)\n",
        "\n",
        "# Each object maintains its own state\n",
        "alice_grades = {\"Mathematics\": \"A\", \"Physics\": \"B\", \"Chemistry\": \"A\"}\n",
        "bob_grades = {\"English Literature\": \"B\", \"History\": \"A\", \"Mathematics\": \"C\"}\n",
        "carol_grades = {\"Biology\": \"A\", \"Chemistry\": \"B\"}\n",
        "\n",
        "print(f\"Alice's GPA: {student1.calculate_gpa(alice_grades):.2f}\")\n",
        "print(f\"Bob's GPA: {student2.calculate_gpa(bob_grades):.2f}\")\n",
        "print(f\"Carol's GPA: {student3.calculate_gpa(carol_grades):.2f}\")\n",
        "\n",
        "print(\"\\n\" + \"=\" * 50)\n",
        "print(\"📋 COMPLETE STUDENT PROFILES\")\n",
        "print(\"=\" * 50)\n",
        "\n",
        "# Each object has its own unique data\n",
        "print(student1.get_student_info())\n",
        "print(student2.get_student_info())\n",
        "print(student3.get_student_info())\n",
        "\n",
        "print(\"=\" * 50)\n",
        "print(\"🏫 SCHOOL INFORMATION\")\n",
        "print(\"=\" * 50)\n",
        "\n",
        "# Class methods work on the class level\n",
        "print(Student.get_school_info())\n",
        "\n",
        "print(\"\\n\" + \"=\" * 50)\n",
        "print(\"🔍 DEMONSTRATING KEY CONCEPTS\")\n",
        "print(\"=\" * 50)\n",
        "\n",
        "print(\"1. SAME CLASS, DIFFERENT OBJECTS:\")\n",
        "print(f\"   student1 type: {type(student1)}\")\n",
        "print(f\"   student2 type: {type(student2)}\")\n",
        "print(f\"   Are they the same object? {student1 is student2}\")\n",
        "print(f\"   Are they instances of the same class? {isinstance(student1, Student)}\")\n",
        "\n",
        "print(\"\\n2. SHARED CLASS VARIABLES:\")\n",
        "print(f\"   All students belong to: {Student.school_name}\")\n",
        "print(f\"   student1.school_name: {student1.school_name}\")\n",
        "print(f\"   student2.school_name: {student2.school_name}\")\n",
        "\n",
        "print(\"\\n3. UNIQUE INSTANCE VARIABLES:\")\n",
        "print(f\"   student1.name: {student1.name}\")\n",
        "print(f\"   student2.name: {student2.name}\")\n",
        "print(f\"   student1.courses: {student1.courses}\")\n",
        "print(f\"   student2.courses: {student2.courses}\")\n",
        "\n",
        "print(\"\\n4. STATIC METHOD USAGE:\")\n",
        "print(f\"   Is 'A' a passing grade? {Student.is_passing_grade('A')}\")\n",
        "print(f\"   Is 'F' a passing grade? {Student.is_passing_grade('F')}\")\n",
        "\n",
        "print(\"\\n\" + \"=\" * 50)\n",
        "print(\"✨ KEY TAKEAWAYS\")\n",
        "print(\"=\" * 50)\n",
        "print(\"• CLASS = Blueprint/Template (defines structure and behavior)\")\n",
        "print(\"• OBJECT = Actual instance (has real data and can perform actions)\")\n",
        "print(\"• Multiple objects can be created from one class\")\n",
        "print(\"• Each object has its own unique data (instance variables)\")\n",
        "print(\"• All objects share the same methods and class variables\")\n",
        "print(\"• Objects are independent - changing one doesn't affect others\")"
      ],
      "metadata": {
        "colab": {
          "base_uri": "https://localhost:8080/"
        },
        "id": "JKMjBqyOZfV4",
        "outputId": "0f669d18-74bb-4e38-d3e2-ac99b0dd3b64"
      },
      "execution_count": null,
      "outputs": [
        {
          "output_type": "stream",
          "name": "stdout",
          "text": [
            "==================================================\n",
            "🎓 CREATING STUDENT OBJECTS\n",
            "==================================================\n",
            "✨ New student Alice Johnson has been enrolled!\n",
            "✨ New student Bob Smith has been enrolled!\n",
            "✨ New student Carol Davis has been enrolled!\n",
            "\n",
            "==================================================\n",
            "👋 STUDENT INTRODUCTIONS\n",
            "==================================================\n",
            "Hi! I'm Alice Johnson, 16 years old, in grade 10\n",
            "Hi! I'm Bob Smith, 17 years old, in grade 11\n",
            "Hi! I'm Carol Davis, 15 years old, in grade 9\n",
            "\n",
            "==================================================\n",
            "📚 ENROLLING IN COURSES\n",
            "==================================================\n",
            "📚 Alice Johnson enrolled in Mathematics\n",
            "📚 Alice Johnson enrolled in Physics\n",
            "📚 Alice Johnson enrolled in Chemistry\n",
            "📚 Bob Smith enrolled in English Literature\n",
            "📚 Bob Smith enrolled in History\n",
            "📚 Bob Smith enrolled in Mathematics\n",
            "📚 Carol Davis enrolled in Biology\n",
            "📚 Carol Davis enrolled in Chemistry\n",
            "\n",
            "==================================================\n",
            "📊 CALCULATING GPAS\n",
            "==================================================\n",
            "Alice's GPA: 3.67\n",
            "Bob's GPA: 3.00\n",
            "Carol's GPA: 3.50\n",
            "\n",
            "==================================================\n",
            "📋 COMPLETE STUDENT PROFILES\n",
            "==================================================\n",
            "\n",
            "        📋 Student Profile:\n",
            "        Name: Alice Johnson\n",
            "        Age: 16\n",
            "        Grade: 10\n",
            "        Student ID: S001\n",
            "        School: Greenwood High School\n",
            "        GPA: 3.67\n",
            "        Courses: Mathematics, Physics, Chemistry\n",
            "        \n",
            "\n",
            "        📋 Student Profile:\n",
            "        Name: Bob Smith\n",
            "        Age: 17\n",
            "        Grade: 11\n",
            "        Student ID: S002\n",
            "        School: Greenwood High School\n",
            "        GPA: 3.00\n",
            "        Courses: English Literature, History, Mathematics\n",
            "        \n",
            "\n",
            "        📋 Student Profile:\n",
            "        Name: Carol Davis\n",
            "        Age: 15\n",
            "        Grade: 9\n",
            "        Student ID: S003\n",
            "        School: Greenwood High School\n",
            "        GPA: 3.50\n",
            "        Courses: Biology, Chemistry\n",
            "        \n",
            "==================================================\n",
            "🏫 SCHOOL INFORMATION\n",
            "==================================================\n",
            "🏫 Greenwood High School has 3 students enrolled\n",
            "\n",
            "==================================================\n",
            "🔍 DEMONSTRATING KEY CONCEPTS\n",
            "==================================================\n",
            "1. SAME CLASS, DIFFERENT OBJECTS:\n",
            "   student1 type: <class '__main__.Student'>\n",
            "   student2 type: <class '__main__.Student'>\n",
            "   Are they the same object? False\n",
            "   Are they instances of the same class? True\n",
            "\n",
            "2. SHARED CLASS VARIABLES:\n",
            "   All students belong to: Greenwood High School\n",
            "   student1.school_name: Greenwood High School\n",
            "   student2.school_name: Greenwood High School\n",
            "\n",
            "3. UNIQUE INSTANCE VARIABLES:\n",
            "   student1.name: Alice Johnson\n",
            "   student2.name: Bob Smith\n",
            "   student1.courses: ['Mathematics', 'Physics', 'Chemistry']\n",
            "   student2.courses: ['English Literature', 'History', 'Mathematics']\n",
            "\n",
            "4. STATIC METHOD USAGE:\n",
            "   Is 'A' a passing grade? True\n",
            "   Is 'F' a passing grade? False\n",
            "\n",
            "==================================================\n",
            "✨ KEY TAKEAWAYS\n",
            "==================================================\n",
            "• CLASS = Blueprint/Template (defines structure and behavior)\n",
            "• OBJECT = Actual instance (has real data and can perform actions)\n",
            "• Multiple objects can be created from one class\n",
            "• Each object has its own unique data (instance variables)\n",
            "• All objects share the same methods and class variables\n",
            "• Objects are independent - changing one doesn't affect others\n"
          ]
        }
      ]
    },
    {
      "cell_type": "markdown",
      "source": [
        "#Advanced Topic"
      ],
      "metadata": {
        "id": "8tCmqEGWZgAM"
      }
    },
    {
      "cell_type": "code",
      "execution_count": null,
      "metadata": {
        "colab": {
          "base_uri": "https://localhost:8080/"
        },
        "id": "XKgf1kEMDbHw",
        "outputId": "a39b108f-7a92-4128-881c-91fc7a6fc5f3"
      },
      "outputs": [
        {
          "output_type": "stream",
          "name": "stdout",
          "text": [
            "Akash work at Google\n",
            "Current Salary:  20000\n",
            "Updated salary:  30000\n",
            "{'name': 'Akash', '_Employee__salary': 30000}\n",
            "{'name': 'Akash'}\n",
            "Akash\n"
          ]
        }
      ],
      "source": [
        "# 1. Core OOP Principles (Recap)\n",
        "\n",
        "class Employee:\n",
        "    company = \"Google\"\n",
        "\n",
        "    def __init__(self, name, salary):\n",
        "        self.name = name\n",
        "        self.__salary = salary # private variable\n",
        "\n",
        "    def display(self):\n",
        "        print(f\"{self.name} work at {self.company}\")\n",
        "\n",
        "    # Getter\n",
        "    @property\n",
        "    def get_salary(self):\n",
        "        return self.__salary\n",
        "\n",
        "    @get_salary.setter\n",
        "    def set_salary(self, salary):\n",
        "        if salary < 10000:\n",
        "            self.__salary = 10000\n",
        "        else:\n",
        "            self.__salary = salary\n",
        "\n",
        "    @get_salary.deleter\n",
        "    def del_salary(self):\n",
        "        del self.__salary\n",
        "\n",
        "employee = Employee(\"Akash\",20000)\n",
        "employee.display()\n",
        "\n",
        "print(\"Current Salary: \",employee.get_salary)\n",
        "\n",
        "employee.set_salary = 30000\n",
        "print(\"Updated salary: \",employee.get_salary)\n",
        "print(employee.__dict__)\n",
        "del employee.del_salary\n",
        "print(employee.__dict__)\n",
        "print(employee.name)"
      ]
    },
    {
      "cell_type": "code",
      "source": [
        "# 2. Advanced Class Features\n",
        "\n",
        "\n",
        "# 2.1 Class Methods & Static Methods\n",
        "class Date:\n",
        "    def __init__(self, day, month, year):\n",
        "        self.day = day\n",
        "        self.month = month\n",
        "        self.year = year\n",
        "\n",
        "    def __str__(self):\n",
        "        return f\"{self.day}/{self.month}/{self.year}\"\n",
        "\n",
        "    @classmethod\n",
        "    def from_string(cls, date_str):\n",
        "        day, month, year = map(int, date_str.split(\"-\"))\n",
        "        return cls(day, month, year)\n",
        "    @staticmethod\n",
        "    def is_leap_year(year):\n",
        "        return year % 4 == 0 and (year % 100 != 0 or year % 400 == 0)\n",
        "    @staticmethod\n",
        "    def add_days(date, days):\n",
        "        new_date = Date(date.day, date.month, date.year)\n",
        "        new_date.day += days\n",
        "        return new_date\n",
        "    @staticmethod\n",
        "    def add_months(date, months):\n",
        "        new_date = Date(date.day, date.month + months, date.year)\n",
        "        return new_date\n",
        "    @staticmethod\n",
        "    def add_years(date, years):\n",
        "        new_date = Date(date.day, date.month, date.year + years)\n",
        "        return new_date\n",
        "    @staticmethod\n",
        "    def is_valid_date(date):\n",
        "        if date.month < 1 or date.month > 12:\n",
        "            return False\n",
        "        if date.day < 1 or date.day > 31:\n",
        "            return False\n",
        "date = Date(12,11,2022)\n",
        "print(date)\n",
        "date_str = \"12-10-2021\"\n",
        "new_date = Date.from_string(date_str)\n",
        "print(new_date)\n",
        "new_date = Date.add_days(date, 10)\n",
        "print(new_date)\n",
        "print(Date.is_leap_year(2020))\n",
        "\n",
        "new_date = Date.add_months(date, 1)\n",
        "print(new_date)\n",
        "new_date = Date.add_years(date, 1)\n",
        "print(new_date)"
      ],
      "metadata": {
        "colab": {
          "base_uri": "https://localhost:8080/"
        },
        "id": "5owO6vXHHJoW",
        "outputId": "5ccad232-5070-4ca0-dfb2-00edae963017"
      },
      "execution_count": null,
      "outputs": [
        {
          "output_type": "stream",
          "name": "stdout",
          "text": [
            "12/11/2022\n",
            "12/10/2021\n",
            "22/11/2022\n",
            "True\n",
            "12/12/2022\n",
            "12/11/2023\n"
          ]
        }
      ]
    },
    {
      "cell_type": "code",
      "source": [
        "# 2.2 Property Decorators\n",
        "\n",
        "class Circle:\n",
        "    def __init__(self, radius):\n",
        "        self.__radius = radius\n",
        "\n",
        "    @property\n",
        "    def radius(self):\n",
        "        return self.__radius\n",
        "\n",
        "    @radius.setter\n",
        "    def radius(self, radius):\n",
        "        if radius < 0:\n",
        "            raise ValueError(\"Radius Cannot be negative\")\n",
        "        else:\n",
        "            self.__radius = radius\n",
        "    @property\n",
        "    def diameter(self):\n",
        "        return self.__radius * 2\n",
        "\n",
        "    @diameter.setter\n",
        "    def diameter(self,diameter):\n",
        "        self.__radius = diameter / 2\n",
        "\n",
        "    @property\n",
        "    def area(self):\n",
        "        return 3.14 * self.__radius ** 2\n",
        "\n",
        "    @property\n",
        "    def circumference(self):\n",
        "        return 2 * 3.14 * self.__radius\n",
        "\n",
        "    @property\n",
        "    def perimeter(self):\n",
        "        return 2 * 3.14 * self.__radius\n",
        "\n",
        "circle = Circle(5)\n",
        "print(circle.radius)\n",
        "print(circle.diameter)\n",
        "print(circle.area)\n",
        "print(circle.circumference)\n",
        "print(circle.perimeter)\n",
        "\n",
        "circle = Circle(10)\n",
        "print(circle.radius)\n",
        "print(circle.diameter)\n",
        "print(circle.area)\n",
        "print(circle.circumference)\n",
        "print(circle.perimeter)"
      ],
      "metadata": {
        "colab": {
          "base_uri": "https://localhost:8080/"
        },
        "id": "44fs0E3wJi_E",
        "outputId": "df8e30b4-1918-44a3-a5e7-d9ce7df6a0a5"
      },
      "execution_count": null,
      "outputs": [
        {
          "output_type": "stream",
          "name": "stdout",
          "text": [
            "5\n",
            "10\n",
            "78.5\n",
            "31.400000000000002\n",
            "31.400000000000002\n",
            "10\n",
            "20\n",
            "314.0\n",
            "62.800000000000004\n",
            "62.800000000000004\n"
          ]
        }
      ]
    },
    {
      "cell_type": "code",
      "source": [
        "# 3. Inheritance & Polymorphism\n",
        "\n",
        "# 3.1 Method Resolution Order (MRO)\n",
        "class A:\n",
        "    def process(self):\n",
        "        print(\"A Process\")\n",
        "class B(A):\n",
        "    def process(self):\n",
        "        print(\"B Process\")\n",
        "class C(A):\n",
        "    def process(self):\n",
        "        print(\"C Process\")\n",
        "class D(B,C):\n",
        "    pass\n",
        "    # def process(self):\n",
        "    #     # print(\"D Process\")\n",
        "    #     pass\n",
        "\n",
        "d = D()\n",
        "d.process()\n",
        "print(D.mro())"
      ],
      "metadata": {
        "colab": {
          "base_uri": "https://localhost:8080/"
        },
        "id": "nSQTgjfjLxns",
        "outputId": "af68ebb0-7dc5-4d76-95cf-41c19f16754d"
      },
      "execution_count": null,
      "outputs": [
        {
          "output_type": "stream",
          "name": "stdout",
          "text": [
            "B Process\n",
            "[<class '__main__.D'>, <class '__main__.B'>, <class '__main__.C'>, <class '__main__.A'>, <class 'object'>]\n"
          ]
        }
      ]
    },
    {
      "cell_type": "markdown",
      "source": [
        ">In Python, Abstract Base Classes (ABCs) are used to define a common interface for a group of subclasses. ABCs help enforce that certain methods or properties must be implemented in any subclass. This is part of the object-oriented programming principle of abstraction.\n",
        "\n",
        "✅ Why Use Abstract Base Classes?\n",
        "Force method implementation in child classes.\n",
        "\n",
        "- Create a contract or blueprint for subclasses.\n",
        "\n",
        "- Make your code cleaner, extensible, and easier to maintain.\n",
        "\n",
        "- Useful for building frameworks, plugins, or APIs."
      ],
      "metadata": {
        "id": "JJ-MTsJXNKMJ"
      }
    },
    {
      "cell_type": "code",
      "source": [
        "# 3.2 Abstract Base Classes\n",
        "from abc import ABC, abstractmethod\n",
        "\n",
        "# Define Abstract Base Class\n",
        "class Animal(ABC):\n",
        "\n",
        "    @abstractmethod\n",
        "    def make_sound(self):\n",
        "        pass\n",
        "\n",
        "    @abstractmethod\n",
        "    def move(self):\n",
        "        pass\n",
        "\n",
        "# Subclass MUST implement all abstract methods\n",
        "class Dog(Animal):\n",
        "    def make_sound(self):\n",
        "        return \"Bark\"\n",
        "\n",
        "    def move(self):\n",
        "        return \"Run\"\n",
        "\n",
        "class Bird(Animal):\n",
        "    def make_sound(self):\n",
        "        return \"Tweet\"\n",
        "\n",
        "    def move(self):\n",
        "        return \"Fly\"\n",
        "\n",
        "# ❌ You can't instantiate an abstract class directly:\n",
        "# animal = Animal()  # This will raise TypeError\n",
        "\n",
        "# ✅ But you can instantiate subclasses:\n",
        "dog = Dog()\n",
        "print(dog.make_sound())  # Output: Bark"
      ],
      "metadata": {
        "colab": {
          "base_uri": "https://localhost:8080/"
        },
        "id": "L-Tc8RKUMyW1",
        "outputId": "53f76c0c-57e6-4db8-fd7c-7b682df7a222"
      },
      "execution_count": null,
      "outputs": [
        {
          "output_type": "stream",
          "name": "stdout",
          "text": [
            "Bark\n"
          ]
        }
      ]
    },
    {
      "cell_type": "code",
      "source": [
        "from abc import ABC, abstractmethod\n",
        "\n",
        "class Database(ABC):\n",
        "\n",
        "    @abstractmethod\n",
        "    def connect(self):\n",
        "        print(\"Connecting to database\")\n",
        "        pass\n",
        "    @abstractmethod\n",
        "    def disconnect(self):\n",
        "        print(\"Disconnecting to database\")\n",
        "        pass\n",
        "    @abstractmethod\n",
        "    def query(self, query):\n",
        "        print(\"Querying database: \"+ query)\n",
        "        pass\n",
        "    @abstractmethod\n",
        "    def execute(self, query):\n",
        "        print(\"Executing query\" + query)\n",
        "        pass\n",
        "\n",
        "class MyDatabase(Database):\n",
        "\n",
        "    def connect(self):\n",
        "        return super().connect()\n",
        "    def disconnect(self):\n",
        "        return super().disconnect()\n",
        "    def query(self, query):\n",
        "        return super().query(query)\n",
        "    def execute(self, query):\n",
        "        return super().execute(query)\n",
        "\n",
        "db = MyDatabase()\n",
        "db.connect()\n",
        "db.disconnect()\n",
        "db.query(query=\"SELECT * FROM users\")\n",
        "db.execute(query=\"SELECT * FROM users\")"
      ],
      "metadata": {
        "colab": {
          "base_uri": "https://localhost:8080/"
        },
        "id": "nGd3cv-zN1WE",
        "outputId": "f2aa7fbe-865c-49f9-e38a-34d0b282f446"
      },
      "execution_count": null,
      "outputs": [
        {
          "output_type": "stream",
          "name": "stdout",
          "text": [
            "Connecting to database\n",
            "Disconnecting to database\n",
            "Querying database: SELECT * FROM users\n",
            "Executing querySELECT * FROM users\n"
          ]
        }
      ]
    },
    {
      "cell_type": "code",
      "source": [
        "# 4. Magic Methods\n",
        "\n",
        "class Vector:\n",
        "    def __init__(self, x, y):\n",
        "        self.x = x\n",
        "        self.y = y\n",
        "\n",
        "    def __add__(self, other):\n",
        "        return Vector(self.x + other.x, self.y + other.y)\n",
        "\n",
        "    def __repr__(self):\n",
        "        return f\"Vector({self.x}, {self.y})\"\n",
        "\n",
        "    def __len__(self):\n",
        "        return 2\n",
        "\n",
        "    def __call__(self):\n",
        "        print(f\"Vector called! Values: {self.x}, {self.y}\")\n",
        "\n",
        "v1 = Vector(2, 3)\n",
        "v2 = Vector(4, 5)\n",
        "print(v1 + v2)  # Vector(6, 8)\n",
        "len(v1)  # 2\n",
        "v1()  # \"Vector called! Values: 2, 3\""
      ],
      "metadata": {
        "colab": {
          "base_uri": "https://localhost:8080/"
        },
        "id": "c2WLK7z5QTND",
        "outputId": "2e80b981-6517-4f18-f51a-cc08c8ca6df0"
      },
      "execution_count": null,
      "outputs": [
        {
          "output_type": "stream",
          "name": "stdout",
          "text": [
            "Vector(6, 8)\n",
            "Vector called! Values: 2, 3\n"
          ]
        }
      ]
    },
    {
      "cell_type": "markdown",
      "source": [
        "# 5. Design Patterns\n",
        ">**Singleton:** The Singleton Pattern is a design pattern that ensures a class has only one instance, and provides a global point of access to it.\n",
        "\n",
        "✅ Why Use the Singleton Pattern?\n",
        " - Control object creation – one instance only.\n",
        "\n",
        "-  Useful for shared resources: logging, configuration, database connections.\n",
        "\n",
        "- Prevents duplicate objects that may cause conflicts or use extra memory.\n",
        "\n",
        "\n",
        "🤔 Why Do We Use the Singleton Pattern?\n",
        "\n",
        ">Imagine this real-world example:\n",
        "🔌 You have a \"Power Switch\" in your room.\n",
        "- No matter how many times you press it, there is only one switch connected to the electricity.\n",
        "- If you had multiple switches, things would get confusing or dangerous."
      ],
      "metadata": {
        "id": "QN0jKKheR3Dy"
      }
    },
    {
      "cell_type": "code",
      "source": [
        "# ✅ Method 1: Classic Singleton using __new__\n",
        "class Singleton:\n",
        "    _instance = None\n",
        "\n",
        "    def __new__(cls):\n",
        "        if cls._instance is None:\n",
        "            cls._instance = super().__new__(cls)\n",
        "        return cls._instance\n",
        "\n",
        "obj1 = Singleton()\n",
        "obj2 = Singleton()\n",
        "print(obj1 is obj2)\n"
      ],
      "metadata": {
        "colab": {
          "base_uri": "https://localhost:8080/"
        },
        "id": "iYoaI_7GRMF0",
        "outputId": "c74fc1b5-9c2e-4dcf-ed44-b9a2d64ff328"
      },
      "execution_count": null,
      "outputs": [
        {
          "output_type": "stream",
          "name": "stdout",
          "text": [
            "True\n"
          ]
        }
      ]
    },
    {
      "cell_type": "code",
      "source": [
        "# ✅ Method 2: Singleton with a Decorator\n",
        "def singleton(cls):\n",
        "    instances = {}\n",
        "    def wrapper(*args, **kwargs):\n",
        "        if cls not in instances:\n",
        "            instances[cls] = cls(*args, **kwargs)\n",
        "        return instances[cls]\n",
        "    return wrapper\n",
        "\n",
        "@singleton\n",
        "class Logger:\n",
        "    def log(self, message):\n",
        "        print(f\"Log: {message}\")\n",
        "\n",
        "# Test\n",
        "logger1 = Logger()\n",
        "logger2 = Logger()\n",
        "print(logger1 is logger2)  # ✅ True"
      ],
      "metadata": {
        "colab": {
          "base_uri": "https://localhost:8080/"
        },
        "id": "EXOeZidjVKnX",
        "outputId": "b46b5de7-de6e-4642-b2ff-b2e392e91bf8"
      },
      "execution_count": null,
      "outputs": [
        {
          "output_type": "stream",
          "name": "stdout",
          "text": [
            "True\n"
          ]
        }
      ]
    },
    {
      "cell_type": "code",
      "source": [
        "# ✅ Method 3: Using a Metaclass (Advanced & Clean)\n",
        "\n",
        "class SingletonMeta(type):\n",
        "    _instance ={}\n",
        "\n",
        "    def __call__(cls, *args, **kwargs):\n",
        "        if cls not in cls._instance:\n",
        "            cls._instance[cls] = super().__call__(*args, **kwargs)\n",
        "        return cls._instance[cls]\n",
        "class Database(metaclass = SingletonMeta):\n",
        "    def connect(self):\n",
        "        print(\"Connecting DB.....\")\n",
        "\n",
        "db1 = Database()\n",
        "db2 = Database()\n",
        "print(db1 is db2)"
      ],
      "metadata": {
        "colab": {
          "base_uri": "https://localhost:8080/"
        },
        "id": "lY7gZw5WXDGM",
        "outputId": "1fe3d1e3-7420-4600-cecb-9703b5f6debe"
      },
      "execution_count": null,
      "outputs": [
        {
          "output_type": "stream",
          "name": "stdout",
          "text": [
            "True\n"
          ]
        }
      ]
    },
    {
      "cell_type": "code",
      "source": [
        "# Real world example: logger\n",
        "class Logger:\n",
        "    _instance = None\n",
        "\n",
        "    def __new__(cls):\n",
        "        if not cls._instance:\n",
        "            cls._instance = super().__new__(cls)\n",
        "        return cls._instance\n",
        "\n",
        "    def log(self, message):\n",
        "        print(f\"[LOG]: {message}\")\n",
        "\n",
        "# Usage\n",
        "log1 = Logger()\n",
        "log2 = Logger()\n",
        "log1.log(\"Starting app...\")\n",
        "log2.log(\"App running...\")\n",
        "print(log1 is log2)  # True"
      ],
      "metadata": {
        "colab": {
          "base_uri": "https://localhost:8080/"
        },
        "id": "I3FA3hlbYn4u",
        "outputId": "9e6ccd4e-bf0c-4e77-e3fa-cd973166937a"
      },
      "execution_count": null,
      "outputs": [
        {
          "output_type": "stream",
          "name": "stdout",
          "text": [
            "[LOG]: Starting app...\n",
            "[LOG]: App running...\n",
            "True\n"
          ]
        }
      ]
    },
    {
      "cell_type": "markdown",
      "source": [
        "### 🏭 What Is the Factory Pattern?\n",
        ">The Factory Pattern is a design pattern that provides a way to create objects without exposing the exact class being used. Instead of calling the constructor directly (ClassName()), you call a factory method that decides which class to instantiate.\n",
        "\n",
        ">🤔 Why Use the Factory Pattern?\n",
        "- ✅ To hide object creation logic\n",
        "- ✅ To make code flexible and easy to extend\n",
        "- ✅ When you want to create different objects using the same interface\n",
        "- ✅ To reduce tight coupling between code and classes\n",
        "\n",
        "🔧 Real-Life Analogy\n",
        ">Imagine you go to a Pizza Factory. You don’t know how the pizza is made, you just say:\n",
        "- “Give me a Margherita pizza.”\n",
        "- The factory gives you the correct pizza, even though you didn’t build it yourself.\n",
        "\n",
        "Same in code!"
      ],
      "metadata": {
        "id": "o4v8JbDiZrGI"
      }
    },
    {
      "cell_type": "code",
      "source": [
        "# 5.2 Factory Pattern\n",
        "\n",
        "class Button:\n",
        "    def render(self):\n",
        "        pass\n",
        "\n",
        "class WindowsButton(Button):\n",
        "    def render(self):\n",
        "        print(\"Windows button\")\n",
        "\n",
        "class MacButton(Button):\n",
        "    def render(self):\n",
        "        print(\"Mac button\")\n",
        "\n",
        "def create_button(os):\n",
        "    if os == \"windows\":\n",
        "        return WindowsButton()\n",
        "    elif os == \"mac\":\n",
        "        return MacButton()\n",
        "    else:\n",
        "        raise ValueError(\"Unknown OS\")\n",
        "\n",
        "button = create_button(\"mac\")\n",
        "button.render()  # \"Mac button\""
      ],
      "metadata": {
        "colab": {
          "base_uri": "https://localhost:8080/"
        },
        "id": "viuw5UH9ZLNQ",
        "outputId": "11ca1c27-49d8-479c-8892-595947d635fe"
      },
      "execution_count": null,
      "outputs": [
        {
          "output_type": "stream",
          "name": "stdout",
          "text": [
            "Mac button\n"
          ]
        }
      ]
    },
    {
      "cell_type": "code",
      "source": [
        "class Shape:\n",
        "    def draw(self):\n",
        "        pass\n",
        "\n",
        "class Circle(Shape):\n",
        "    def draw(self):\n",
        "        return \"Drawing a Circle\"\n",
        "\n",
        "class Square(Shape):\n",
        "    def draw(self):\n",
        "        return \"Drawing a Square\"\n",
        "\n",
        "# Factory Function\n",
        "def shape_factory(shape_type):\n",
        "    if shape_type == \"circle\":\n",
        "        return Circle()\n",
        "    elif shape_type == \"square\":\n",
        "        return Square()\n",
        "    else:\n",
        "        raise ValueError(\"Unknown shape type\")\n",
        "\n",
        "# Usage\n",
        "shape1 = shape_factory(\"circle\")\n",
        "shape2 = shape_factory(\"square\")\n",
        "\n",
        "print(shape1.draw())  # Output: Drawing a Circle\n",
        "print(shape2.draw())  # Output: Drawing a Square\n"
      ],
      "metadata": {
        "colab": {
          "base_uri": "https://localhost:8080/"
        },
        "id": "1RY6_6hTaiJB",
        "outputId": "4e941d32-98a7-4337-a649-ca96070785ff"
      },
      "execution_count": null,
      "outputs": [
        {
          "output_type": "stream",
          "name": "stdout",
          "text": [
            "Drawing a Circle\n",
            "Drawing a Square\n"
          ]
        }
      ]
    },
    {
      "cell_type": "code",
      "source": [
        "t Dict, List, Tuple\n",
        "from dataclasses import dataclass\n",
        "from datetime import datetime, date\n",
        "import re\n",
        "\n",
        "@dataclass\n",
        "class StudentProfile:\n",
        "    \"\"\"Student profile with comprehensive information for matching\"\"\"\n",
        "    # Basic Info\n",
        "    name: str\n",
        "    age: int\n",
        "    email: str\n",
        "\n",
        "    # Academic\n",
        "    gpa: float\n",
        "    major: str\n",
        "    academic_level: str  # undergraduate, graduate, high_school\n",
        "    graduation_year: int\n",
        "\n",
        "    # Demographics\n",
        "    ethnicity: str\n",
        "    gender: str\n",
        "    first_generation: bool\n",
        "    financial_need_level: int  # 1-5 scale\n",
        "\n",
        "    # Location\n",
        "    state: str\n",
        "    country: str\n",
        "\n",
        "    # Achievements\n",
        "    extracurriculars: List[str]\n",
        "    awards: List[str]\n",
        "    volunteer_hours: int\n",
        "    work_experience: List[str]\n",
        "\n",
        "    # Interests & Goals\n",
        "    career_goals: List[str]\n",
        "    research_interests: List[str]\n",
        "\n",
        "    # Essays/Personal Statement (for NLP analysis)\n",
        "    personal_statement: str\n",
        "\n",
        "@dataclass\n",
        "class Scholarship:\n",
        "    \"\"\"Scholarship opportunity with detailed requirements\"\"\"\n",
        "    id: str\n",
        "    title: str\n",
        "    provider: str\n",
        "    amount: int\n",
        "    deadline: date\n",
        "\n",
        "    # Eligibility Requirements\n",
        "    min_gpa: float\n",
        "    max_gpa: float\n",
        "    eligible_majors: List[str]\n",
        "    academic_levels: List[str]\n",
        "\n",
        "    # Demographics\n",
        "    required_ethnicity: List[str]  # empty list means no restriction\n",
        "    required_gender: List[str]\n",
        "    first_generation_only: bool\n",
        "    financial_need_required: bool\n",
        "\n",
        "    # Location\n",
        "    eligible_states: List[str]\n",
        "    eligible_countries: List[str]\n",
        "\n",
        "    # Additional Requirements\n",
        "    required_activities: List[str]\n",
        "    min_volunteer_hours: int\n",
        "    essay_required: bool\n",
        "\n",
        "    # Metadata\n",
        "    difficulty_score: int  # 1-10, based on competitiveness\n",
        "    keywords: List[str]\n",
        "    description: str\n",
        "\n",
        "class ScholarshipMatcher:\n",
        "    \"\"\"AI-powered scholarship matching engine\"\"\"\n",
        "\n",
        "    def __init__(self):\n",
        "        self.scholarships = []\n",
        "        self.matching_weights = {\n",
        "            'gpa_match': 0.25,\n",
        "            'major_match': 0.20,\n",
        "            'demographic_match': 0.15,\n",
        "            'activity_match': 0.20,\n",
        "            'location_match': 0.10,\n",
        "            'keyword_match': 0.10\n",
        "        }\n",
        "\n",
        "    def add_scholarship(self, scholarship: Scholarship):\n",
        "        \"\"\"Add scholarship to the database\"\"\"\n",
        "        self.scholarships.append(scholarship)\n",
        "\n",
        "    def calculate_eligibility_score(self, student: StudentProfile, scholarship: Scholarship) -> float:\n",
        "        \"\"\"Calculate how well a student matches scholarship requirements (0-1)\"\"\"\n",
        "        scores = {}\n",
        "\n",
        "        # GPA Match (0-1)\n",
        "        if scholarship.min_gpa <= student.gpa <= scholarship.max_gpa:\n",
        "            # Bonus for higher GPA within range\n",
        "            gpa_bonus = min((student.gpa - scholarship.min_gpa) / 0.5, 1.0)\n",
        "            scores['gpa_match'] = 0.8 + (0.2 * gpa_bonus)\n",
        "        else:\n",
        "            scores['gpa_match'] = 0.0\n",
        "\n",
        "        # Major Match (0-1)\n",
        "        if not scholarship.eligible_majors or student.major.lower() in [m.lower() for m in scholarship.eligible_majors]:\n",
        "            scores['major_match'] = 1.0\n",
        "        else:\n",
        "            # Partial match for related fields\n",
        "            scores['major_match'] = self._calculate_major_similarity(student.major, scholarship.eligible_majors)\n",
        "\n",
        "        # Academic Level Match (0-1)\n",
        "        if student.academic_level in scholarship.academic_levels:\n",
        "            scores['academic_level'] = 1.0\n",
        "        else:\n",
        "            scores['academic_level'] = 0.0\n",
        "\n",
        "        # Demographics Match (0-1)\n",
        "        demo_score = 1.0\n",
        "        if scholarship.required_ethnicity and student.ethnicity not in scholarship.required_ethnicity:\n",
        "            demo_score *= 0.0\n",
        "        if scholarship.required_gender and student.gender not in scholarship.required_gender:\n",
        "            demo_score *= 0.0\n",
        "        if scholarship.first_generation_only and not student.first_generation:\n",
        "            demo_score *= 0.0\n",
        "        if scholarship.financial_need_required and student.financial_need_level < 3:\n",
        "            demo_score *= 0.5\n",
        "        scores['demographic_match'] = demo_score\n",
        "\n",
        "        # Location Match (0-1)\n",
        "        location_score = 1.0\n",
        "        if scholarship.eligible_states and student.state not in scholarship.eligible_states:\n",
        "            location_score *= 0.5\n",
        "        if scholarship.eligible_countries and student.country not in scholarship.eligible_countries:\n",
        "            location_score *= 0.0\n",
        "        scores['location_match'] = location_score\n",
        "\n",
        "        # Activity/Experience Match (0-1)\n",
        "        activity_score = 0.0\n",
        "        if scholarship.required_activities:\n",
        "            matches = 0\n",
        "            for req_activity in scholarship.required_activities:\n",
        "                for student_activity in student.extracurriculars + student.work_experience:\n",
        "                    if self._activity_similarity(req_activity, student_activity) > 0.7:\n",
        "                        matches += 1\n",
        "                        break\n",
        "            activity_score = min(matches / len(scholarship.required_activities), 1.0)\n",
        "        else:\n",
        "            activity_score = 1.0\n",
        "\n",
        "        # Volunteer hours check\n",
        "        if student.volunteer_hours >= scholarship.min_volunteer_hours:\n",
        "            activity_score = min(activity_score + 0.2, 1.0)\n",
        "\n",
        "        scores['activity_match'] = activity_score\n",
        "\n",
        "        # Keyword Match from personal statement (0-1)\n",
        "        keyword_score = self._calculate_keyword_match(student.personal_statement, scholarship.keywords)\n",
        "        scores['keyword_match'] = keyword_score\n",
        "\n",
        "        # Must pass basic eligibility to be considered\n",
        "        if scores['gpa_match'] == 0.0 or scores['academic_level'] == 0.0 or scores['demographic_match'] == 0.0:\n",
        "            return 0.0\n",
        "\n",
        "        # Calculate weighted average\n",
        "        total_score = sum(scores[key] * self.matching_weights[key] for key in self.matching_weights.keys())\n",
        "        return total_score\n",
        "\n",
        "    def calculate_success_probability(self, student: StudentProfile, scholarship: Scholarship, eligibility_score: float) -> float:\n",
        "        \"\"\"Predict probability of winning scholarship (0-1)\"\"\"\n",
        "        if eligibility_score == 0.0:\n",
        "            return 0.0\n",
        "\n",
        "        # Base probability from eligibility\n",
        "        probability = eligibility_score * 0.6\n",
        "\n",
        "        # Adjust for competition level (difficulty)\n",
        "        difficulty_factor = 1.0 - (scholarship.difficulty_score / 15.0)  # Max difficulty bonus\n",
        "        probability += difficulty_factor * 0.2\n",
        "\n",
        "        # GPA bonus\n",
        "        if student.gpa >= 3.8:\n",
        "            probability += 0.1\n",
        "        elif student.gpa >= 3.5:\n",
        "            probability += 0.05\n",
        "\n",
        "        # Leadership/Awards bonus\n",
        "        if len(student.awards) > 2:\n",
        "            probability += 0.05\n",
        "        if len(student.extracurriculars) > 3:\n",
        "            probability += 0.05\n",
        "\n",
        "        # Unique background bonus\n",
        "        if student.first_generation:\n",
        "            probability += 0.03\n",
        "        if student.volunteer_hours > 100:\n",
        "            probability += 0.02\n",
        "\n",
        "        return min(probability, 1.0)\n",
        "\n",
        "    def find_matches(self, student: StudentProfile, top_n: int = 10) -> List[Tuple[Scholarship, float, float]]:\n",
        "        \"\"\"Find best scholarship matches for a student\"\"\"\n",
        "        matches = []\n",
        "\n",
        "        for scholarship in self.scholarships:\n",
        "            eligibility_score = self.calculate_eligibility_score(student, scholarship)\n",
        "            if eligibility_score > 0.3:  # Minimum threshold\n",
        "                success_prob = self.calculate_success_probability(student, scholarship, eligibility_score)\n",
        "                matches.append((scholarship, eligibility_score, success_prob))\n",
        "\n",
        "        # Sort by success probability, then by eligibility score\n",
        "        matches.sort(key=lambda x: (x[2], x[1]), reverse=True)\n",
        "        return matches[:top_n]\n",
        "\n",
        "    def _calculate_major_similarity(self, student_major: str, eligible_majors: List[str]) -> float:\n",
        "        \"\"\"Calculate similarity between majors using keyword matching\"\"\"\n",
        "        student_words = set(student_major.lower().split())\n",
        "        max_similarity = 0.0\n",
        "\n",
        "        for eligible_major in eligible_majors:\n",
        "            eligible_words = set(eligible_major.lower().split())\n",
        "            if student_words & eligible_words:  # Intersection\n",
        "                similarity = len(student_words & eligible_words) / len(student_words | eligible_words)\n",
        "                max_similarity = max(max_similarity, similarity)\n",
        "\n",
        "        return max_similarity\n",
        "\n",
        "    def _activity_similarity(self, required: str, student_activity: str) -> float:\n",
        "        \"\"\"Calculate similarity between activities\"\"\"\n",
        "        req_words = set(required.lower().split())\n",
        "        student_words = set(student_activity.lower().split())\n",
        "\n",
        "        if not req_words or not student_words:\n",
        "            return 0.0\n",
        "\n",
        "        intersection = req_words & student_words\n",
        "        union = req_words | student_words\n",
        "\n",
        "        return len(intersection) / len(union) if union else 0.0\n",
        "\n",
        "    def _calculate_keyword_match(self, text: str, keywords: List[str]) -> float:\n",
        "        \"\"\"Calculate how well personal statement matches scholarship keywords\"\"\"\n",
        "        if not keywords or not text:\n",
        "            return 0.5  # Neutral score if no keywords or text\n",
        "\n",
        "        text_lower = text.lower()\n",
        "        matches = 0\n",
        "\n",
        "        for keyword in keywords:\n",
        "            if keyword.lower() in text_lower:\n",
        "                matches += 1\n",
        "\n",
        "        return min(matches / len(keywords), 1.0)\n",
        "\n",
        "# Demo Data and Usage\n",
        "def create_sample_data():\n",
        "    \"\"\"Create sample students and scholarships for demonstration\"\"\"\n",
        "\n",
        "    # Sample Student Profiles\n",
        "    students = [\n",
        "        StudentProfile(\n",
        "            name=\"Alice Johnson\",\n",
        "            age=20,\n",
        "            email=\"alice@email.com\",\n",
        "            gpa=3.8,\n",
        "            major=\"Computer Science\",\n",
        "            academic_level=\"undergraduate\",\n",
        "            graduation_year=2025,\n",
        "            ethnicity=\"Hispanic\",\n",
        "            gender=\"Female\",\n",
        "            first_generation=True,\n",
        "            financial_need_level=4,\n",
        "            state=\"California\",\n",
        "            country=\"USA\",\n",
        "            extracurriculars=[\"Programming Club\", \"Robotics Team\", \"Volunteer Tutoring\"],\n",
        "            awards=[\"Dean's List\", \"Hackathon Winner\"],\n",
        "            volunteer_hours=120,\n",
        "            work_experience=[\"Software Intern\", \"Math Tutor\"],\n",
        "            career_goals=[\"Software Engineer\", \"AI Researcher\"],\n",
        "            research_interests=[\"Machine Learning\", \"Web Development\"],\n",
        "            personal_statement=\"I am passionate about using technology to solve real-world problems. Growing up as a first-generation college student, I understand the importance of education and want to use my programming skills to create applications that help underserved communities access educational resources.\"\n",
        "        ),\n",
        "        StudentProfile(\n",
        "            name=\"Marcus Williams\",\n",
        "            age=22,\n",
        "            email=\"marcus@email.com\",\n",
        "            gpa=3.6,\n",
        "            major=\"Business Administration\",\n",
        "            academic_level=\"undergraduate\",\n",
        "            graduation_year=2024,\n",
        "            ethnicity=\"African American\",\n",
        "            gender=\"Male\",\n",
        "            first_generation=False,\n",
        "            financial_need_level=3,\n",
        "            state=\"New York\",\n",
        "            country=\"USA\",\n",
        "            extracurriculars=[\"Student Government\", \"Business Club\", \"Basketball Team\"],\n",
        "            awards=[\"Leadership Award\"],\n",
        "            volunteer_hours=80,\n",
        "            work_experience=[\"Marketing Intern\", \"Retail Associate\"],\n",
        "            career_goals=[\"Marketing Manager\", \"Entrepreneur\"],\n",
        "            research_interests=[\"Digital Marketing\", \"Entrepreneurship\"],\n",
        "            personal_statement=\"My goal is to start my own business that creates jobs in underserved communities. Through my leadership roles and internship experience, I've learned the importance of strategic thinking and community engagement in building successful enterprises.\"\n",
        "        )\n",
        "    ]\n",
        "\n",
        "    # Sample Scholarships\n",
        "    scholarships = [\n",
        "        Scholarship(\n",
        "            id=\"TECH001\",\n",
        "            title=\"Women in Technology Scholarship\",\n",
        "            provider=\"Tech Foundation\",\n",
        "            amount=5000,\n",
        "            deadline=date(2024, 3, 15),\n",
        "            min_gpa=3.5,\n",
        "            max_gpa=4.0,\n",
        "            eligible_majors=[\"Computer Science\", \"Engineering\", \"Information Technology\"],\n",
        "            academic_levels=[\"undergraduate\", \"graduate\"],\n",
        "            required_ethnicity=[],\n",
        "            required_gender=[\"Female\"],\n",
        "            first_generation_only=False,\n",
        "            financial_need_required=False,\n",
        "            eligible_states=[],\n",
        "            eligible_countries=[\"USA\"],\n",
        "            required_activities=[\"Programming\", \"Technology\"],\n",
        "            min_volunteer_hours=0,\n",
        "            essay_required=True,\n",
        "            difficulty_score=6,\n",
        "            keywords=[\"technology\", \"programming\", \"innovation\", \"leadership\"],\n",
        "            description=\"Supporting women pursuing careers in technology fields\"\n",
        "        ),\n",
        "        Scholarship(\n",
        "            id=\"FIRST001\",\n",
        "            title=\"First Generation College Student Scholarship\",\n",
        "            provider=\"Education Access Foundation\",\n",
        "            amount=3000,\n",
        "            deadline=date(2024, 4, 1),\n",
        "            min_gpa=3.0,\n",
        "            max_gpa=4.0,\n",
        "            eligible_majors=[],\n",
        "            academic_levels=[\"undergraduate\"],\n",
        "            required_ethnicity=[],\n",
        "            required_gender=[],\n",
        "            first_generation_only=True,\n",
        "            financial_need_required=True,\n",
        "            eligible_states=[],\n",
        "            eligible_countries=[\"USA\"],\n",
        "            required_activities=[],\n",
        "            min_volunteer_hours=50,\n",
        "            essay_required=True,\n",
        "            difficulty_score=4,\n",
        "            keywords=[\"first generation\", \"education\", \"opportunity\", \"community\"],\n",
        "            description=\"Supporting first-generation college students in achieving their educational goals\"\n",
        "        ),\n",
        "        Scholarship(\n",
        "            id=\"BUS001\",\n",
        "            title=\"Future Business Leaders Scholarship\",\n",
        "            provider=\"Business Excellence Institute\",\n",
        "            amount=4000,\n",
        "            deadline=date(2024, 2, 28),\n",
        "            min_gpa=3.3,\n",
        "            max_gpa=4.0,\n",
        "            eligible_majors=[\"Business Administration\", \"Management\", \"Marketing\", \"Finance\"],\n",
        "            academic_levels=[\"undergraduate\", \"graduate\"],\n",
        "            required_ethnicity=[],\n",
        "            required_gender=[],\n",
        "            first_generation_only=False,\n",
        "            financial_need_required=False,\n",
        "            eligible_states=[],\n",
        "            eligible_countries=[\"USA\"],\n",
        "            required_activities=[\"Leadership\", \"Business\"],\n",
        "            min_volunteer_hours=25,\n",
        "            essay_required=True,\n",
        "            difficulty_score=5,\n",
        "            keywords=[\"leadership\", \"business\", \"entrepreneurship\", \"innovation\"],\n",
        "            description=\"Recognizing future business leaders with strong academic and leadership records\"\n",
        "        )\n",
        "    ]\n",
        "\n",
        "    return students, scholarships\n",
        "\n",
        "def run_demo():\n",
        "    \"\"\"Demonstrate the scholarship matching system\"\"\"\n",
        "    print(\"🎓 AI SCHOLARSHIP FINDER - DEMO\")\n",
        "    print(\"=\" * 60)\n",
        "\n",
        "    # Initialize matcher and load data\n",
        "    matcher = ScholarshipMatcher()\n",
        "    students, scholarships = create_sample_data()\n",
        "\n",
        "    for scholarship in scholarships:\n",
        "        matcher.add_scholarship(scholarship)\n",
        "\n",
        "    # Find matches for each student\n",
        "    for i, student in enumerate(students):\n",
        "        print(f\"\\n👤 STUDENT {i+1}: {student.name}\")\n",
        "        print(\"-\" * 40)\n",
        "        print(f\"Major: {student.major}\")\n",
        "        print(f\"GPA: {student.gpa}\")\n",
        "        print(f\"Academic Level: {student.academic_level}\")\n",
        "        print(f\"First Generation: {student.first_generation}\")\n",
        "        print(f\"Financial Need Level: {student.financial_need_level}/5\")\n",
        "        print(f\"Volunteer Hours: {student.volunteer_hours}\")\n",
        "        print(f\"Activities: {', '.join(student.extracurriculars[:3])}\")\n",
        "\n",
        "        matches = matcher.find_matches(student, top_n=5)\n",
        "\n",
        "        print(f\"\\n🎯 TOP SCHOLARSHIP MATCHES:\")\n",
        "        if not matches:\n",
        "            print(\"No suitable matches found.\")\n",
        "            continue\n",
        "\n",
        "        for j, (scholarship, eligibility, success_prob) in enumerate(matches, 1):\n",
        "            print(f\"\\n{j}. {scholarship.title}\")\n",
        "            print(f\"   Provider: {scholarship.provider}\")\n",
        "            print(f\"   Amount: ${scholarship.amount:,}\")\n",
        "            print(f\"   Deadline: {scholarship.deadline.strftime('%B %d, %Y')}\")\n",
        "            print(f\"   📊 Eligibility Score: {eligibility:.2f}/1.00\")\n",
        "            print(f\"   🎲 Success Probability: {success_prob:.2f}/1.00\")\n",
        "            print(f\"   🏆 Difficulty: {scholarship.difficulty_score}/10\")\n",
        "\n",
        "            # Recommendation\n",
        "            if success_prob >= 0.7:\n",
        "                recommendation = \"🟢 HIGHLY RECOMMENDED - Strong match!\"\n",
        "            elif success_prob >= 0.5:\n",
        "                recommendation = \"🟡 GOOD MATCH - Worth applying\"\n",
        "            else:\n",
        "                recommendation = \"🟠 CONSIDER - Lower probability but possible\"\n",
        "\n",
        "            print(f\"   {recommendation}\")\n",
        "\n",
        "        print(\"\\n\" + \"=\"*40)\n",
        "\n",
        "if __name__ == \"__main__\":\n",
        "    run_demo()"
      ],
      "metadata": {
        "colab": {
          "base_uri": "https://localhost:8080/"
        },
        "id": "FX04PRgu13Bl",
        "outputId": "24f654dc-bea1-4ec2-fcf3-7fddf4e05d24"
      },
      "execution_count": null,
      "outputs": [
        {
          "output_type": "stream",
          "name": "stdout",
          "text": [
            "🎓 AI SCHOLARSHIP FINDER - DEMO\n",
            "============================================================\n",
            "\n",
            "👤 STUDENT 1: Alice Johnson\n",
            "----------------------------------------\n",
            "Major: Computer Science\n",
            "GPA: 3.8\n",
            "Academic Level: undergraduate\n",
            "First Generation: True\n",
            "Financial Need Level: 4/5\n",
            "Volunteer Hours: 120\n",
            "Activities: Programming Club, Robotics Team, Volunteer Tutoring\n",
            "\n",
            "🎯 TOP SCHOLARSHIP MATCHES:\n",
            "\n",
            "1. First Generation College Student Scholarship\n",
            "   Provider: Education Access Foundation\n",
            "   Amount: $3,000\n",
            "   Deadline: April 01, 2024\n",
            "   📊 Eligibility Score: 0.93/1.00\n",
            "   🎲 Success Probability: 0.85/1.00\n",
            "   🏆 Difficulty: 4/10\n",
            "   🟢 HIGHLY RECOMMENDED - Strong match!\n",
            "\n",
            "2. Women in Technology Scholarship\n",
            "   Provider: Tech Foundation\n",
            "   Amount: $5,000\n",
            "   Deadline: March 15, 2024\n",
            "   📊 Eligibility Score: 0.77/1.00\n",
            "   🎲 Success Probability: 0.73/1.00\n",
            "   🏆 Difficulty: 6/10\n",
            "   🟢 HIGHLY RECOMMENDED - Strong match!\n",
            "\n",
            "3. Future Business Leaders Scholarship\n",
            "   Provider: Business Excellence Institute\n",
            "   Amount: $4,000\n",
            "   Deadline: February 28, 2024\n",
            "   📊 Eligibility Score: 0.54/1.00\n",
            "   🎲 Success Probability: 0.61/1.00\n",
            "   🏆 Difficulty: 5/10\n",
            "   🟡 GOOD MATCH - Worth applying\n",
            "\n",
            "========================================\n",
            "\n",
            "👤 STUDENT 2: Marcus Williams\n",
            "----------------------------------------\n",
            "Major: Business Administration\n",
            "GPA: 3.6\n",
            "Academic Level: undergraduate\n",
            "First Generation: False\n",
            "Financial Need Level: 3/5\n",
            "Volunteer Hours: 80\n",
            "Activities: Student Government, Business Club, Basketball Team\n",
            "\n",
            "🎯 TOP SCHOLARSHIP MATCHES:\n",
            "\n",
            "1. Future Business Leaders Scholarship\n",
            "   Provider: Business Excellence Institute\n",
            "   Amount: $4,000\n",
            "   Deadline: February 28, 2024\n",
            "   📊 Eligibility Score: 0.77/1.00\n",
            "   🎲 Success Probability: 0.65/1.00\n",
            "   🏆 Difficulty: 5/10\n",
            "   🟡 GOOD MATCH - Worth applying\n",
            "\n",
            "========================================\n"
          ]
        }
      ]
    }
  ]
}